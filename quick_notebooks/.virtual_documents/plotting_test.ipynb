


# Install repository
#%cd /content
#!git clone https://github.com/lfinnerty/PDP-Asteroid-Orbits.git
#%cd PDP-Asteroid-Orbits
#!git pull origin main
# Install the package and its dependencies
%cd /home/lfinnerty/Teaching/PDP/PDP-Astroid-Orbits/
#!pip install -e .

# Verify installation
import pdp_asteroids
print(f"PDP Asteroids package installed successfully!")
from pdp_asteroids.hf_utils import hf_manager

#hf_manager.clone_repo(local_dir='/home/lfinnerty/Teaching/PDP/hf/')
#hf_manager.pull_changes(local_dir='/home/lfinnerty/Teaching/PDP/hf/')

#import ipympl
%matplotlib inline
#%matplotlib widget

from pdp_asteroids.investigation_manager import OrbitInvestigation
investigation = OrbitInvestigation(base_path='/home/lfinnerty/Teaching/PDP/hf/', group="Sparkly-Otter") #put your group name here!
# Fit the orbit
#investigation.fit_orbit()


anis = investigation.plot_orbit_animation(num=2)
# for ani in anis: ani.show()



